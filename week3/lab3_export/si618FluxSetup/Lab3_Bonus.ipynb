{
 "cells": [
  {
   "cell_type": "code",
   "execution_count": 53,
   "metadata": {
    "collapsed": true
   },
   "outputs": [],
   "source": [
    "import pandas as pd\n",
    "import numpy as np"
   ]
  },
  {
   "cell_type": "code",
   "execution_count": 12,
   "metadata": {},
   "outputs": [],
   "source": [
    "data = pd.read_csv('ngrams-output.txt',sep = '\\n',header = None)"
   ]
  },
  {
   "cell_type": "code",
   "execution_count": 13,
   "metadata": {},
   "outputs": [],
   "source": [
    "data.columns = ['a']"
   ]
  },
  {
   "cell_type": "code",
   "execution_count": 21,
   "metadata": {},
   "outputs": [
    {
     "data": {
      "text/plain": [
       "<bound method NDFrame.head of                               a\n",
       "0      (1564, 8.95897435897436)\n",
       "1                (1568, 8.9375)\n",
       "2     (1572, 10.86864406779661)\n",
       "3     (1574, 9.798076923076923)\n",
       "4     (1582, 9.938983050847458)\n",
       "5     (1584, 9.859756097560975)\n",
       "6                   (1588, 9.7)\n",
       "7     (1590, 8.466989436619718)\n",
       "8     (1592, 8.937106918238994)\n",
       "9    (1594, 12.142857142857142)\n",
       "10                (1598, 9.832)\n",
       "11   (1600, 10.153295128939828)\n",
       "12   (1602, 5.7272727272727275)\n",
       "13    (1606, 8.594594594594595)\n",
       "14    (1610, 7.866666666666666)\n",
       "15     (1612, 9.72972972972973)\n",
       "16               (1614, 10.375)\n",
       "17   (1618, 10.413793103448276)\n",
       "18    (1620, 9.106382978723405)\n",
       "19    (1624, 9.962686567164178)\n",
       "20    (1626, 9.645833333333334)\n",
       "21               (1628, 10.875)\n",
       "22     (1630, 9.87683284457478)\n",
       "23    (1632, 10.96551724137931)\n",
       "24   (1634, 10.240663900414937)\n",
       "25    (1636, 8.869565217391305)\n",
       "26     (1638, 8.90632318501171)\n",
       "27    (1640, 8.696629213483146)\n",
       "28     (1642, 7.82051282051282)\n",
       "29    (1644, 9.903419316136773)\n",
       "..                          ...\n",
       "395   (1959, 9.921816098977523)\n",
       "396   (1961, 9.845579194365698)\n",
       "397   (1963, 9.899037046700808)\n",
       "398   (1965, 9.845548066952784)\n",
       "399   (1967, 9.878510422578803)\n",
       "400   (1969, 9.826507100795467)\n",
       "401   (1971, 9.888930615152034)\n",
       "402   (1973, 9.841120218165624)\n",
       "403   (1975, 9.804956605112249)\n",
       "404   (1977, 9.791682083327476)\n",
       "405   (1979, 9.802351405104226)\n",
       "406   (1981, 9.761339697764583)\n",
       "407   (1983, 9.794734450150585)\n",
       "408   (1985, 9.761445831650367)\n",
       "409   (1987, 9.738816909839922)\n",
       "410   (1989, 9.710144230777455)\n",
       "411   (1991, 9.679409295296683)\n",
       "412   (1993, 9.681129990307564)\n",
       "413   (1995, 9.669703832600856)\n",
       "414    (1997, 9.64522427520491)\n",
       "415   (1999, 9.622537124815894)\n",
       "416   (2001, 9.598801263623741)\n",
       "417   (2003, 9.584914653965292)\n",
       "418    (2005, 9.57700619486979)\n",
       "419   (2007, 9.589189270312401)\n",
       "420   (1505, 8.619047619047619)\n",
       "421   (1507, 8.361702127659575)\n",
       "422   (1515, 9.918067226890756)\n",
       "423                (1525, 13.0)\n",
       "424                 (1527, 9.6)\n",
       "\n",
       "[425 rows x 1 columns]>"
      ]
     },
     "execution_count": 21,
     "metadata": {},
     "output_type": "execute_result"
    }
   ],
   "source": [
    "data.head"
   ]
  },
  {
   "cell_type": "code",
   "execution_count": 165,
   "metadata": {
    "collapsed": true
   },
   "outputs": [],
   "source": [
    "year = []\n",
    "ave = []\n",
    "num_dict = {}"
   ]
  },
  {
   "cell_type": "code",
   "execution_count": 166,
   "metadata": {},
   "outputs": [],
   "source": [
    "import collections\n",
    "\n",
    "def function(data):\n",
    "    #num_list = data.loc[0].tolist()[0].replace('(','').replace(')','').split(',')\n",
    "    num_list = list(data)\n",
    "    for num in num_list:\n",
    "        num = num.replace('(','').replace(')','').split(',')\n",
    "        num = list(map(float,num))\n",
    "        i = iter(num)\n",
    "        num_dict.update(dict(zip(i,i)))\n",
    "        \n",
    "        # sort by year\n",
    "        od = collections.OrderedDict(sorted(num_dict.items()))\n",
    "    for k,v in od.items():\n",
    "        year.append(k)\n",
    "        ave.append(v)\n",
    "            \n",
    "        "
   ]
  },
  {
   "cell_type": "code",
   "execution_count": 167,
   "metadata": {},
   "outputs": [
    {
     "data": {
      "text/plain": [
       "a    None\n",
       "dtype: object"
      ]
     },
     "execution_count": 167,
     "metadata": {},
     "output_type": "execute_result"
    }
   ],
   "source": [
    "data.apply(function,axis = 0)"
   ]
  },
  {
   "cell_type": "code",
   "execution_count": 168,
   "metadata": {},
   "outputs": [
    {
     "data": {
      "text/plain": [
       "425"
      ]
     },
     "execution_count": 168,
     "metadata": {},
     "output_type": "execute_result"
    }
   ],
   "source": [
    "len(year)\n"
   ]
  },
  {
   "cell_type": "code",
   "execution_count": 173,
   "metadata": {
    "scrolled": true
   },
   "outputs": [
    {
     "data": {
      "image/png": "[encoded data removed]",
      "text/plain": [
       "<matplotlib.figure.Figure at 0x117705ac8>"
      ]
     },
     "metadata": {},
     "output_type": "display_data"
    },
    {
     "data": {
      "text/plain": [
       "<matplotlib.figure.Figure at 0x1173833c8>"
      ]
     },
     "metadata": {},
     "output_type": "display_data"
    }
   ],
   "source": [
    "import matplotlib.pyplot as plt\n",
    "\n",
    "plt.plot(year, ave)\n",
    "plt.figure(figsize=(20,10),dpi=80, facecolor='w', edgecolor='k')\n",
    "plt.show()"
   ]
  },
  {
   "cell_type": "code",
   "execution_count": 127,
   "metadata": {},
   "outputs": [
    {
     "data": {
      "text/plain": [
       "{11: 12}"
      ]
     },
     "execution_count": 127,
     "metadata": {},
     "output_type": "execute_result"
    }
   ],
   "source": [
    "a = ['11','12']\n",
    "a = list(map(int,a))\n",
    "i = iter(a)\n",
    "b = dict(zip(i,i))\n",
    "b"
   ]
  },
  {
   "cell_type": "code",
   "execution_count": 138,
   "metadata": {},
   "outputs": [
    {
     "data": {
      "text/plain": [
       "OrderedDict([(1, 89), (2, 3), (3, 0), (4, 5)])"
      ]
     },
     "execution_count": 138,
     "metadata": {},
     "output_type": "execute_result"
    }
   ],
   "source": [
    "d = {2:3, 1:89, 4:5, 3:0}\n",
    "\n",
    "od = collections.OrderedDict(sorted(d.items()))\n",
    "\n",
    "od"
   ]
  }
 ],
 "metadata": {
  "kernelspec": {
   "display_name": "Python 3",
   "language": "python",
   "name": "python3"
  },
  "language_info": {
   "codemirror_mode": {
    "name": "ipython",
    "version": 3
   },
   "file_extension": ".py",
   "mimetype": "text/x-python",
   "name": "python",
   "nbconvert_exporter": "python",
   "pygments_lexer": "ipython3",
   "version": "3.6.1"
  }
 },
 "nbformat": 4,
 "nbformat_minor": 2
}
